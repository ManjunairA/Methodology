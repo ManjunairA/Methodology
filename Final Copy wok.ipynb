{
 "cells": [
  {
   "cell_type": "markdown",
   "id": "fb9fc274",
   "metadata": {},
   "source": [
    "# Obese or not"
   ]
  },
  {
   "cell_type": "code",
   "execution_count": 39,
   "id": "b5e49567",
   "metadata": {},
   "outputs": [],
   "source": [
    "import pandas as pd\n",
    "def Obesity():\n",
    "    #Reading excel file\n",
    "    df=pd.read_excel('Data.xlsx')\n",
    "    #Renaming the column Blood group to Blood_group\n",
    "    df.rename(columns = {'Blood group':'Blood_group'},inplace=True)\n",
    "    #Creating dataframe of blood group and BMI with respect to blood groups\n",
    "    newdf= df[['BMI','Blood_group']]\n",
    "    #Creating a datafrae wrt to blood group\n",
    "    O_pos=newdf.query('Blood_group==\"O+ve\"')\n",
    "    A_pos=newdf.query('Blood_group==\"A+ve\"')\n",
    "    B_pos=newdf.query('Blood_group==\"B+ve\"')\n",
    "    AB_pos=newdf.query('Blood_group==\"AB+ve\"')\n",
    "    A_neg=newdf.query('Blood_group==\"A-ve\"')\n",
    "    B_neg=newdf.query('Blood_group==\"B-ve\"')\n",
    "    O_neg=newdf.query('Blood_group==\"O-ve\"')\n",
    "    \n",
    "    #Checking obesity\n",
    "    \n",
    "    #Checking obessity of B+ve blood group\n",
    "    Bpos_count=B_pos[B_pos['BMI']>25]\n",
    "    Bpos_ucount=B_pos[B_pos['BMI']<18.5]\n",
    "    normal_Bpos=len(B_pos)-(len(Bpos_count)+len(Bpos_ucount))\n",
    "\n",
    "    \n",
    "    print(f\"Normal people count {normal_Bpos} in found in B+ve among\",len(B_pos))\n",
    "    print(\"Obesity count in B+ve group is =\",len(Bpos_count), 'among', len(B_pos))\n",
    "    print(\"Underweight count in B+ve is =\",len(Bpos_ucount), 'among', len(B_pos))\n",
    "    print(\"----------------------------------------------------------------------\")\n",
    "    \n",
    "    \n",
    "        \n",
    "    #Checking obessity with O+ve blood group\n",
    "    Opos_count=O_pos[O_pos['BMI'] > 25]\n",
    "    Opos_ucount=O_pos[O_pos['BMI'] < 18.5]\n",
    "    normal_ocount=len(O_pos)-(len(Opos_count)+len(Opos_ucount))\n",
    "\n",
    "    \n",
    "    \n",
    "    print(f\"Normal people count {normal_ocount} in found in O+ve among\",len(O_pos))\n",
    "    print(f\"Under weight {len(Opos_ucount)} people found in O+ve among\",len(O_pos))\n",
    "    print(\"Obesity count in O+ve group is =\",len(Opos_count), 'among', len(O_pos))\n",
    "\n",
    "    print(\"--------------------------------------------------------------------\")\n",
    "    \n",
    "    \n",
    "    \n",
    "    #Checking obessity with A+ve blood group\n",
    "    Apos_count=A_pos[A_pos['BMI']>25]\n",
    "    Apos_ucount=A_pos[A_pos['BMI']<18.5]\n",
    "    normal_Acount=len(A_pos)-(len(Apos_count)+len(Apos_ucount))\n",
    "\n",
    "    print(f\"Normal people count {normal_Acount} in found in A+ve among\",len(A_pos))\n",
    "    print(f\"Under weight {len(Apos_ucount)} people found in A+ve among\",len(A_pos))\n",
    "    print(\"Obesity count in A+ve group is =\",len(Apos_count), 'among', len(A_pos))\n",
    "\n",
    "    print(\"--------------------------------------------------------------------\")\n",
    "\n",
    "    \"\"\"\n",
    "    if len(Apos_count)<1:\n",
    "        print(\"NO obesity people found in A+ve among\",len(A_pos))\n",
    "    else:\n",
    "        print(\"Obesity count in A+ve group is =\",len(Apos_count), 'among', len(A_pos))\"\"\"\n",
    "    \"\"\"\n",
    "    if len(Bpos_count)<1:\n",
    "        print(f\"Normal people count {normal_Bpos} in found in B+ve among\",len(B_pos))\n",
    "    else:\n",
    "        print(\"Obesity count in B+ve group is =\",len(Bpos_count), 'among', len(B_pos))\n",
    "    \n",
    "    if len(Bpos_ucount)>=1:\n",
    "        print(\"Underweight count in B+ve is =\",len(Bpos_ucount), 'among', len(B_pos))\"\"\"\n",
    "\n",
    "    \"\"\"\n",
    "    if len(Opos_count)<1:\n",
    "        print(\"NO obesity people found in O+ve among\",len(O_pos))\n",
    "    else:\n",
    "        print(\"Obesity count in O+ve group is =\",len(Opos_count), 'among', len(O_pos))\"\"\"\n",
    "        \n",
    "    \n",
    "     #Checking obessity of AB+ve blood group\n",
    "    ABpos_count=AB_pos[AB_pos['BMI']>25]\n",
    "    ABpos_ucount=AB_pos[AB_pos['BMI']<18.5]\n",
    "    normal_ABcount=len(AB_pos)-(len(ABpos_count)+len(ABpos_ucount))\n",
    "\n",
    "    print(f\"Normal people count {normal_ABcount} in found in AB+ve among\",len(AB_pos))\n",
    "    print(f\"Under weight {len(ABpos_ucount)} people found in AB+ve among\",len(AB_pos))\n",
    "    print(\"Obesity count in AB+ve group is =\",len(ABpos_count), 'among', len(AB_pos))\n",
    "\n",
    "    print(\"--------------------------------------------------------------------\")\n",
    "    \n",
    "    \n",
    "    \n",
    "    \n",
    "    \"\"\"\n",
    "    if len(ABpos_count)<1:\n",
    "        print(\"NO obesity people found in AB+ among\",len(AB_pos))\n",
    "    else:\n",
    "        print(\"Obesity count in AB+ve group is =\",len(ABpos_count), 'among', len(AB_pos))\"\"\"\n",
    "    \n",
    "    \n",
    "    #Checking obesity of A-ve group\n",
    "    Aneg_count= A_neg[A_neg['BMI']>25]\n",
    "    Aneg_ucount= A_neg[A_neg['BMI']<18.5]\n",
    "    normal_Anecount=len(A_neg)-(len(Aneg_count)+len(Aneg_ucount))\n",
    "\n",
    "    print(f\"Normal people count {normal_Anecount} in found in A-ve among\",len(A_neg))\n",
    "    print(f\"Under weight {len(Aneg_ucount)} people found in A-ve among\",len(A_neg))\n",
    "    print(\"Obesity count in A-ve group is =\",len(Aneg_count), 'among', len(A_neg))\n",
    "\n",
    "    print(\"--------------------------------------------------------------------\")\n",
    "    \n",
    "    \n",
    "    \"\"\"\n",
    "    \n",
    "    if len(Aneg_count)<1:\n",
    "        print(\"NO obesity people found in A-ve among\",len(A_neg))\n",
    "    else:\n",
    "        print(\"Obesity count in AB+ve group is =\",len(Aneg_count), 'among', len(A_neg))\"\"\"\n",
    "    \n",
    "    \n",
    "    #Checking obesity with B-ve\n",
    "    Bneg_count= B_neg[B_neg['BMI']>25]\n",
    "    Bneg_ucount= B_neg[B_neg['BMI']<18.5]\n",
    "    normal_Bnecount=len(B_neg)-(len(Bneg_count)+len(Bneg_ucount))\n",
    "    \n",
    "    \n",
    "    print(f\"Normal people count {normal_Bnecount} in found in B-ve among\",len(B_neg))\n",
    "    print(f\"Under weight {len(Bneg_ucount)} people found in B-ve among\",len(B_neg))\n",
    "    print(\"Obesity count in B-ve group is =\",len(Bneg_count), 'among', len(B_neg))\n",
    "\n",
    "    print(\"--------------------------------------------------------------------\")\n",
    "\n",
    "    \"\"\"\n",
    "    if len(Bneg_count)<1:\n",
    "        print(\"NO obesity people found in B-ve among\",len(B_neg))\n",
    "    else:\n",
    "        print(\"Obesity count in AB+ve group is =\",len(Bneg_count), 'among', len(B_neg))\"\"\"\n",
    "        \n",
    "    #Checking obesity with  O-ve group\n",
    "    Oneg_count= O_neg[O_neg['BMI']>25]\n",
    "    Oneg_ucount= O_neg[O_neg['BMI']<18.5]\n",
    "    normal_Onecount=len(O_neg)-(len(Oneg_count)+len(Oneg_ucount))\n",
    "    \n",
    "    print(f\"Normal people count {normal_Onecount} in found in O-ve among\",len(O_neg))\n",
    "    print(f\"Under weight {len(Oneg_ucount)} people found in O-ve among\",len(O_neg))\n",
    "    print(\"Obesity count in O-ve group is =\",len(Oneg_count), 'among', len(O_neg))\n",
    "\n",
    "    print(\"--------------------------------------------------------------------\")\n",
    "\n",
    "    \"\"\"\n",
    "    if len(Oneg_count)<1:\n",
    "        print(\"NO obesity people found in O-ve among\",len(O_neg))\n",
    "    else:\n",
    "        print(\"Obesity count in AB+ve group is =\",len(Oneg_count), 'among', len(O_neg))\n",
    "        \n",
    "    \"\"\"\n",
    "    \n",
    "    \n",
    "    "
   ]
  },
  {
   "cell_type": "code",
   "execution_count": 40,
   "id": "8ad1846b",
   "metadata": {},
   "outputs": [
    {
     "name": "stdout",
     "output_type": "stream",
     "text": [
      "Normal people count 31 in found in B+ve among 44\n",
      "Obesity count in B+ve group is = 4 among 44\n",
      "Underweight count in B+ve is = 9 among 44\n",
      "----------------------------------------------------------------------\n",
      "Normal people count 52 in found in O+ve among 78\n",
      "Under weight 23 people found in O+ve among 78\n",
      "Obesity count in O+ve group is = 3 among 78\n",
      "--------------------------------------------------------------------\n",
      "Normal people count 37 in found in A+ve among 61\n",
      "Under weight 19 people found in A+ve among 61\n",
      "Obesity count in A+ve group is = 5 among 61\n",
      "--------------------------------------------------------------------\n",
      "Normal people count 6 in found in AB+ve among 12\n",
      "Under weight 5 people found in AB+ve among 12\n",
      "Obesity count in AB+ve group is = 1 among 12\n",
      "--------------------------------------------------------------------\n",
      "Normal people count 4 in found in A-ve among 6\n",
      "Under weight 1 people found in A-ve among 6\n",
      "Obesity count in A-ve group is = 1 among 6\n",
      "--------------------------------------------------------------------\n",
      "Normal people count 1 in found in B-ve among 1\n",
      "Under weight 0 people found in B-ve among 1\n",
      "Obesity count in B-ve group is = 0 among 1\n",
      "--------------------------------------------------------------------\n",
      "Normal people count 1 in found in O-ve among 3\n",
      "Under weight 1 people found in O-ve among 3\n",
      "Obesity count in O-ve group is = 1 among 3\n",
      "--------------------------------------------------------------------\n"
     ]
    }
   ],
   "source": [
    "Obesity()"
   ]
  },
  {
   "cell_type": "markdown",
   "id": "4cd8af70",
   "metadata": {},
   "source": [
    "# Relationship between Blood group and BMI"
   ]
  },
  {
   "cell_type": "code",
   "execution_count": 10,
   "id": "260d666c",
   "metadata": {},
   "outputs": [],
   "source": [
    "#Anova test on Blood group and BMI\n",
    "import pandas as pd\n",
    "import numpy as np\n",
    "from scipy.stats import f_oneway\n",
    "\n",
    "\n",
    "    \n",
    "def ANOVA_BloodBMI():\n",
    "    #Reading Data\n",
    "    df=pd.read_excel('Data.xlsx')\n",
    "    #Renaming the column Blood group to Blood_group\n",
    "    df.rename(columns = {'Blood group':'Blood_group'},inplace=True)\n",
    "    print(\"Data Read Successfull\")\n",
    "    #Creating dataframe of blood group and BMI with respect to blood groups\n",
    "    newdf=df[['BMI','Blood_group']]\n",
    "    O_pos=newdf.query('Blood_group==\"O+ve\"')\n",
    "    A_pos=newdf.query('Blood_group==\"A+ve\"')\n",
    "    B_pos=newdf.query('Blood_group==\"B+ve\"')\n",
    "    AB_pos=newdf.query('Blood_group==\"AB+ve\"')\n",
    "    A_neg=newdf.query('Blood_group==\"A-ve\"')\n",
    "    B_neg=newdf.query('Blood_group==\"B-ve\"')\n",
    "    O_neg=newdf.query('Blood_group==\"O-ve\"')\n",
    "    \n",
    "    \n",
    "    Opos_BMI=list(O_pos['BMI'])\n",
    "    Oneg_BMI=list(O_neg['BMI'])\n",
    "    Apos_BMI=list(A_pos['BMI'])\n",
    "    Bpos_BMI=list(B_pos['BMI'])\n",
    "    ABpos_BMI=list(AB_pos['BMI'])\n",
    "    Aneg_BMI=list(A_neg['BMI'])\n",
    "    Bneg_BMI=list(B_neg['BMI'])\n",
    "    \n",
    "    \n",
    "    #Fitting one way anova\n",
    "    \n",
    "    stats,p_value=f_oneway(Opos_BMI,Oneg_BMI,Apos_BMI,Bpos_BMI,ABpos_BMI,Aneg_BMI,Bneg_BMI)\n",
    "    print(\"Stats= \",stats)\n",
    "    print(\"P_value=\", p_value)\n",
    "    \n",
    "    if p_value < 0.05:\n",
    "        print(\"Reject null hypothesis\")\n",
    "        print(\"Blood groups are contributers for BMI\")\n",
    "    else:\n",
    "        print(\"Accept Null Hypothesis\")\n",
    "        print(\"There is no relation between BMI and Blood group\")\n",
    "    \n",
    "\n",
    "    \n",
    "#Since the p-value is less than 0.05 hence we would reject the null hypothesis\n",
    "    "
   ]
  },
  {
   "cell_type": "code",
   "execution_count": 9,
   "id": "b08a1f4c",
   "metadata": {},
   "outputs": [
    {
     "name": "stdout",
     "output_type": "stream",
     "text": [
      "Data Read Successfull\n",
      "Stats=  1.1648334925091484\n",
      "P_value= 0.3266727494233022\n",
      "Accept Null Hypothesis\n",
      "There is no relation between BMI and Blood group\n"
     ]
    }
   ],
   "source": [
    "ANOVA_BloodBMI()"
   ]
  },
  {
   "cell_type": "code",
   "execution_count": 95,
   "id": "863c45f1",
   "metadata": {},
   "outputs": [
    {
     "data": {
      "text/html": [
       "<div>\n",
       "<style scoped>\n",
       "    .dataframe tbody tr th:only-of-type {\n",
       "        vertical-align: middle;\n",
       "    }\n",
       "\n",
       "    .dataframe tbody tr th {\n",
       "        vertical-align: top;\n",
       "    }\n",
       "\n",
       "    .dataframe thead th {\n",
       "        text-align: right;\n",
       "    }\n",
       "</style>\n",
       "<table border=\"1\" class=\"dataframe\">\n",
       "  <thead>\n",
       "    <tr style=\"text-align: right;\">\n",
       "      <th></th>\n",
       "      <th>Students</th>\n",
       "      <th>Gender</th>\n",
       "      <th>Age</th>\n",
       "      <th>Blood_group</th>\n",
       "      <th>Weight (in kgs)</th>\n",
       "      <th>Height (in m)</th>\n",
       "      <th>BMI</th>\n",
       "      <th>Result of BMI</th>\n",
       "      <th>Walking per day (in mins)</th>\n",
       "      <th>Exercise per day(in mins)</th>\n",
       "      <th>Hours of sleep per day</th>\n",
       "      <th>Frequency of eating fast food per week</th>\n",
       "      <th>Hours spent on non-physical activity per day</th>\n",
       "      <th>Frequency of eating fruits per week</th>\n",
       "    </tr>\n",
       "  </thead>\n",
       "  <tbody>\n",
       "    <tr>\n",
       "      <th>0</th>\n",
       "      <td>1</td>\n",
       "      <td>f</td>\n",
       "      <td>23</td>\n",
       "      <td>O+ve</td>\n",
       "      <td>56.0</td>\n",
       "      <td>1.53</td>\n",
       "      <td>23.9</td>\n",
       "      <td>n</td>\n",
       "      <td>15</td>\n",
       "      <td>15</td>\n",
       "      <td>6-8 .</td>\n",
       "      <td>1-2 times</td>\n",
       "      <td>&gt;3.</td>\n",
       "      <td>1-2times</td>\n",
       "    </tr>\n",
       "  </tbody>\n",
       "</table>\n",
       "</div>"
      ],
      "text/plain": [
       "   Students Gender  Age Blood_group  Weight (in kgs)  Height (in m)   BMI  \\\n",
       "0         1      f   23        O+ve             56.0           1.53  23.9   \n",
       "\n",
       "  Result of BMI Walking per day (in mins) Exercise per day(in mins)  \\\n",
       "0             n                        15                        15   \n",
       "\n",
       "  Hours of sleep per day Frequency of eating fast food per week  \\\n",
       "0                  6-8 .                              1-2 times   \n",
       "\n",
       "  Hours spent on non-physical activity per day  \\\n",
       "0                                          >3.   \n",
       "\n",
       "  Frequency of eating fruits per week  \n",
       "0                            1-2times  "
      ]
     },
     "execution_count": 95,
     "metadata": {},
     "output_type": "execute_result"
    }
   ],
   "source": [
    "df.head(n=1)"
   ]
  },
  {
   "cell_type": "code",
   "execution_count": 96,
   "id": "80506497",
   "metadata": {},
   "outputs": [
    {
     "data": {
      "text/plain": [
       "Index(['Students', 'Gender', 'Age', 'Blood_group', 'Weight (in kgs)',\n",
       "       'Height (in m)', 'BMI', 'Result of BMI', 'Walking per day (in mins)',\n",
       "       'Exercise per day(in mins)', 'Hours of sleep per day',\n",
       "       'Frequency of eating fast food per week',\n",
       "       'Hours spent on non-physical activity per day',\n",
       "       'Frequency of eating fruits per week'],\n",
       "      dtype='object')"
      ]
     },
     "execution_count": 96,
     "metadata": {},
     "output_type": "execute_result"
    }
   ],
   "source": [
    "df.columns"
   ]
  },
  {
   "cell_type": "code",
   "execution_count": 101,
   "id": "2bd2ac67",
   "metadata": {},
   "outputs": [
    {
     "name": "stdout",
     "output_type": "stream",
     "text": [
      "<class 'pandas.core.frame.DataFrame'>\n",
      "RangeIndex: 205 entries, 0 to 204\n",
      "Data columns (total 14 columns):\n",
      " #   Column                                        Non-Null Count  Dtype  \n",
      "---  ------                                        --------------  -----  \n",
      " 0   Students                                      205 non-null    int64  \n",
      " 1   Gender                                        205 non-null    object \n",
      " 2   Age                                           205 non-null    int64  \n",
      " 3   Blood_group                                   205 non-null    object \n",
      " 4   Weight (in kgs)                               205 non-null    float64\n",
      " 5   Height (in m)                                 205 non-null    float64\n",
      " 6   BMI                                           205 non-null    float64\n",
      " 7   Result of BMI                                 205 non-null    object \n",
      " 8   Walking per day (in mins)                     205 non-null    object \n",
      " 9   Exercise per day(in mins)                     205 non-null    object \n",
      " 10  Hours of sleep per day                        205 non-null    object \n",
      " 11  Frequency of eating fast food per week        205 non-null    object \n",
      " 12  Hours spent on non-physical activity per day  205 non-null    object \n",
      " 13  Frequency of eating fruits per week           205 non-null    object \n",
      "dtypes: float64(3), int64(2), object(9)\n",
      "memory usage: 22.5+ KB\n"
     ]
    }
   ],
   "source": [
    "df.info()"
   ]
  },
  {
   "cell_type": "code",
   "execution_count": 104,
   "id": "4001f5b4",
   "metadata": {},
   "outputs": [
    {
     "data": {
      "text/plain": [
       "<AxesSubplot:ylabel='BMI'>"
      ]
     },
     "execution_count": 104,
     "metadata": {},
     "output_type": "execute_result"
    },
    {
     "data": {
      "image/png": "[encoded data removed]",
      "text/plain": [
       "<Figure size 432x288 with 1 Axes>"
      ]
     },
     "metadata": {
      "needs_background": "light"
     },
     "output_type": "display_data"
    }
   ],
   "source": [
    "import seaborn as sns\n",
    "sns.scatterplot(data=df, x=df.index, y='BMI', hue='Walking per day (in mins)')"
   ]
  },
  {
   "cell_type": "code",
   "execution_count": 116,
   "id": "b3e13ac4",
   "metadata": {},
   "outputs": [
    {
     "data": {
      "text/plain": [
       "array([15, '>30.', 30, '>3O.', 20], dtype=object)"
      ]
     },
     "execution_count": 116,
     "metadata": {},
     "output_type": "execute_result"
    }
   ],
   "source": [
    "df[\"Walking per day (in mins)\"].unique()"
   ]
  },
  {
   "cell_type": "code",
   "execution_count": 98,
   "id": "d01bd4e1",
   "metadata": {},
   "outputs": [
    {
     "data": {
      "text/plain": [
       "0.5548180406210308"
      ]
     },
     "execution_count": 98,
     "metadata": {},
     "output_type": "execute_result"
    }
   ],
   "source": [
    "#Correlation between height and weight\n",
    "df['Height (in m)'].corr(df['Weight (in kgs)'])"
   ]
  },
  {
   "cell_type": "code",
   "execution_count": 118,
   "id": "5ed7c660",
   "metadata": {},
   "outputs": [
    {
     "data": {
      "text/plain": [
       "0.1408214702735197"
      ]
     },
     "execution_count": 118,
     "metadata": {},
     "output_type": "execute_result"
    }
   ],
   "source": [
    "#Co-relation between BMI and Waling per day(Numerical and Categorical that's why we have applied Factorize)\n",
    "from pandas import factorize\n",
    "\n",
    "labels, categories = factorize(df[\"Walking per day (in mins)\"])\n",
    "df[\"labels\"] = labels\n",
    "abs(df[\"BMI\"].corr(df[\"labels\"]))"
   ]
  },
  {
   "cell_type": "code",
   "execution_count": 120,
   "id": "c4880ade",
   "metadata": {},
   "outputs": [
    {
     "data": {
      "text/plain": [
       "0.1301042412422823"
      ]
     },
     "execution_count": 120,
     "metadata": {},
     "output_type": "execute_result"
    }
   ],
   "source": [
    "#Correlation between blood group and BMI\n",
    "from pandas import factorize\n",
    "\n",
    "labels, categories = factorize(df[\"Blood_group\"])\n",
    "df[\"labels\"] = labels\n",
    "abs(df[\"BMI\"].corr(df[\"labels\"]))"
   ]
  },
  {
   "cell_type": "code",
   "execution_count": 121,
   "id": "72534454",
   "metadata": {},
   "outputs": [
    {
     "data": {
      "text/plain": [
       "0.006053933624225364"
      ]
     },
     "execution_count": 121,
     "metadata": {},
     "output_type": "execute_result"
    }
   ],
   "source": [
    "#Correlation between Frequency of eating fruits per week and BMI\n",
    "from pandas import factorize\n",
    "\n",
    "labels, categories = factorize(df[\"Frequency of eating fruits per week\"])\n",
    "df[\"labels\"] = labels\n",
    "abs(df[\"BMI\"].corr(df[\"labels\"]))"
   ]
  },
  {
   "cell_type": "code",
   "execution_count": 122,
   "id": "21d3e80b",
   "metadata": {},
   "outputs": [
    {
     "data": {
      "text/plain": [
       "0.01023291349244566"
      ]
     },
     "execution_count": 122,
     "metadata": {},
     "output_type": "execute_result"
    }
   ],
   "source": [
    "from pandas import factorize\n",
    "\n",
    "labels, categories = factorize(df[\"Frequency of eating fast food per week\"])\n",
    "df[\"labels\"] = labels\n",
    "abs(df[\"BMI\"].corr(df[\"labels\"]))"
   ]
  },
  {
   "cell_type": "code",
   "execution_count": 125,
   "id": "9bbe15e7",
   "metadata": {},
   "outputs": [
    {
     "data": {
      "text/plain": [
       "0.07384253083827494"
      ]
     },
     "execution_count": 125,
     "metadata": {},
     "output_type": "execute_result"
    }
   ],
   "source": [
    "#Hours of Sleep per day and BMI\n",
    "from pandas import factorize\n",
    "\n",
    "labels, categories = factorize(df[\"Hours of sleep per day\"])\n",
    "df[\"labels\"] = labels\n",
    "abs(df[\"BMI\"].corr(df[\"labels\"]))"
   ]
  },
  {
   "cell_type": "markdown",
   "id": "ae78a46f",
   "metadata": {},
   "source": [
    "# Relationship between BMI and hours of sleep "
   ]
  },
  {
   "cell_type": "code",
   "execution_count": 2,
   "id": "1790ecbd",
   "metadata": {},
   "outputs": [],
   "source": [
    "import pandas as pd\n",
    "from scipy.stats import f_oneway\n",
    "import warnings\n",
    "warnings.filterwarnings('ignore')\n",
    "\n",
    "def sleepWithBMI():\n",
    "    #Reading Excel data\n",
    "    df=pd.read_excel('Data.xlsx')\n",
    "    #Creating New dataframe having Sleep and BMI columns\n",
    "    newdf3=df[['Hours of sleep per day','BMI']]\n",
    "    #Renaming sleep column\n",
    "    newdf3.rename(columns = {'Hours of sleep per day':'Sleep'},inplace=True)\n",
    "    sleep_6to81=newdf3.query('Sleep==\"6-8 .\"')\n",
    "    sleep_6to8=newdf3.query('Sleep==\"6-8.\"')\n",
    "    sleep_6to8.append(sleep_6to81)\n",
    "    sleep_lessthan6=newdf3.query('Sleep==\"<6.\"')\n",
    "    sleep_greaterthan8=newdf3.query('Sleep==\">8.\"')\n",
    "    sleep_lessthan61=newdf3.query('Sleep==\"<6. \"')\n",
    "    sleep_lessthan6.append(sleep_lessthan61)\n",
    "    \n",
    "    #Creating list of BMI wrt sleephour(6-8,<6,>6)\n",
    "    sleep6_8BMI=list(sleep_6to8['BMI'])\n",
    "    sleep_less6_BMI=list(sleep_lessthan6['BMI'])\n",
    "    sleep_greaterthan8BMI=list(sleep_greaterthan8['BMI'])\n",
    "    sleep_lessthan61BMI=list(sleep_lessthan61['BMI'])\n",
    "    \n",
    "    \n",
    "    #Performing anova  \n",
    "    stats,p_value=f_oneway(sleep6_8BMI,sleep_less6_BMI,sleep_greaterthan8BMI,sleep_lessthan61BMI)\n",
    "    print(\"Statistis= \",stats)\n",
    "    print(\"P value= \",p_value)\n",
    "    print(p_value)\n",
    "    if p_value < 0.05:\n",
    "        print(\"Reject null hypothesis\")\n",
    "        print(\"Sleep will not matter in BMI\")\n",
    "    else:\n",
    "        print(\"Accept Null Hypothesis\")\n",
    "        print(\"Sleep matters in BMI\")\n",
    "    \n",
    "    \n",
    "\n",
    "    \n",
    "\n",
    "    \n",
    "\n",
    "    "
   ]
  },
  {
   "cell_type": "code",
   "execution_count": 3,
   "id": "f482edc3",
   "metadata": {},
   "outputs": [
    {
     "name": "stdout",
     "output_type": "stream",
     "text": [
      "Statistis=  1.2087681810977733\n",
      "P value=  0.3076752814924177\n",
      "0.3076752814924177\n",
      "Accept Null Hypothesis\n",
      "Sleep matters in BMI\n"
     ]
    }
   ],
   "source": [
    "sleepWithBMI()"
   ]
  },
  {
   "cell_type": "markdown",
   "id": "ed5de97d",
   "metadata": {},
   "source": [
    "# Relationship between BMI and exercise,walking "
   ]
  },
  {
   "cell_type": "code",
   "execution_count": 12,
   "id": "988241c5",
   "metadata": {},
   "outputs": [],
   "source": [
    "import pandas as pd\n",
    "import warnings\n",
    "warnings.filterwarnings('ignore')\n",
    "import statsmodels.api as sm\n",
    "from statsmodels.formula.api import ols\n",
    "def twowayanova_bmi_exercise_walk():\n",
    "    #Reading Excel data\n",
    "    df=pd.read_excel('Data.xlsx')\n",
    "    newdf2=df[['BMI','Exercise per day(in mins)','Walking per day (in mins)']]\n",
    "    newdf2.rename(columns = {'Exercise per day(in mins)':'Exercise','Walking per day (in mins)':'Walk'},inplace=True)\n",
    "    model = ols(\n",
    "\t'BMI ~ C(Walk) + C(Exercise) +\\\n",
    "\tC(Walk):C(Exercise)', data=newdf2).fit()\n",
    "    return sm.stats.anova_lm(model, typ=2)\n",
    "    \n",
    "    "
   ]
  },
  {
   "cell_type": "code",
   "execution_count": 13,
   "id": "1670f4d2",
   "metadata": {},
   "outputs": [
    {
     "data": {
      "text/html": [
       "<div>\n",
       "<style scoped>\n",
       "    .dataframe tbody tr th:only-of-type {\n",
       "        vertical-align: middle;\n",
       "    }\n",
       "\n",
       "    .dataframe tbody tr th {\n",
       "        vertical-align: top;\n",
       "    }\n",
       "\n",
       "    .dataframe thead th {\n",
       "        text-align: right;\n",
       "    }\n",
       "</style>\n",
       "<table border=\"1\" class=\"dataframe\">\n",
       "  <thead>\n",
       "    <tr style=\"text-align: right;\">\n",
       "      <th></th>\n",
       "      <th>sum_sq</th>\n",
       "      <th>df</th>\n",
       "      <th>F</th>\n",
       "      <th>PR(&gt;F)</th>\n",
       "    </tr>\n",
       "  </thead>\n",
       "  <tbody>\n",
       "    <tr>\n",
       "      <th>C(Walk)</th>\n",
       "      <td>366.581961</td>\n",
       "      <td>4.0</td>\n",
       "      <td>7.910743</td>\n",
       "      <td>0.005428</td>\n",
       "    </tr>\n",
       "    <tr>\n",
       "      <th>C(Exercise)</th>\n",
       "      <td>22.937755</td>\n",
       "      <td>3.0</td>\n",
       "      <td>0.659988</td>\n",
       "      <td>0.417576</td>\n",
       "    </tr>\n",
       "    <tr>\n",
       "      <th>C(Walk):C(Exercise)</th>\n",
       "      <td>48.170071</td>\n",
       "      <td>12.0</td>\n",
       "      <td>0.346499</td>\n",
       "      <td>0.931429</td>\n",
       "    </tr>\n",
       "    <tr>\n",
       "      <th>Residual</th>\n",
       "      <td>2212.723628</td>\n",
       "      <td>191.0</td>\n",
       "      <td>NaN</td>\n",
       "      <td>NaN</td>\n",
       "    </tr>\n",
       "  </tbody>\n",
       "</table>\n",
       "</div>"
      ],
      "text/plain": [
       "                          sum_sq     df         F    PR(>F)\n",
       "C(Walk)               366.581961    4.0  7.910743  0.005428\n",
       "C(Exercise)            22.937755    3.0  0.659988  0.417576\n",
       "C(Walk):C(Exercise)    48.170071   12.0  0.346499  0.931429\n",
       "Residual             2212.723628  191.0       NaN       NaN"
      ]
     },
     "execution_count": 13,
     "metadata": {},
     "output_type": "execute_result"
    }
   ],
   "source": [
    "twowayanova_bmi_exercise_walk()"
   ]
  },
  {
   "cell_type": "code",
   "execution_count": null,
   "id": "71f06a61",
   "metadata": {},
   "outputs": [],
   "source": []
  },
  {
   "cell_type": "markdown",
   "id": "c6e70ef0",
   "metadata": {},
   "source": [
    "# Relationship between BMI and frequency of eating fruits and fast food\n"
   ]
  },
  {
   "cell_type": "code",
   "execution_count": 14,
   "id": "8ad66dc6",
   "metadata": {},
   "outputs": [],
   "source": [
    "import pandas as pd\n",
    "import warnings\n",
    "warnings.filterwarnings('ignore')\n",
    "import statsmodels.api as sm\n",
    "from statsmodels.formula.api import ols\n",
    "def twowayanova_BMI_fastfood_fruits():\n",
    "    newdf4=df[['Frequency of eating fast food per week','Frequency of eating fruits per week','BMI']]\n",
    "    newdf4.rename(columns={'Frequency of eating fast food per week':'Fast_food','Frequency of eating fruits per week':'Fruits'},inplace=True)\n",
    "    model = ols(\n",
    "\t'BMI ~ C(Fast_food) + C(Fruits) +\\\n",
    "\tC(Fast_food):C(Fruits)', data=newdf4).fit()\n",
    "    return sm.stats.anova_lm(model, typ=2)\n",
    "\n",
    "    "
   ]
  },
  {
   "cell_type": "code",
   "execution_count": 15,
   "id": "a1cf175a",
   "metadata": {},
   "outputs": [
    {
     "data": {
      "text/html": [
       "<div>\n",
       "<style scoped>\n",
       "    .dataframe tbody tr th:only-of-type {\n",
       "        vertical-align: middle;\n",
       "    }\n",
       "\n",
       "    .dataframe tbody tr th {\n",
       "        vertical-align: top;\n",
       "    }\n",
       "\n",
       "    .dataframe thead th {\n",
       "        text-align: right;\n",
       "    }\n",
       "</style>\n",
       "<table border=\"1\" class=\"dataframe\">\n",
       "  <thead>\n",
       "    <tr style=\"text-align: right;\">\n",
       "      <th></th>\n",
       "      <th>sum_sq</th>\n",
       "      <th>df</th>\n",
       "      <th>F</th>\n",
       "      <th>PR(&gt;F)</th>\n",
       "    </tr>\n",
       "  </thead>\n",
       "  <tbody>\n",
       "    <tr>\n",
       "      <th>C(Fast_food)</th>\n",
       "      <td>5.745908e+00</td>\n",
       "      <td>4.0</td>\n",
       "      <td>1.206506e-01</td>\n",
       "      <td>0.947866</td>\n",
       "    </tr>\n",
       "    <tr>\n",
       "      <th>C(Fruits)</th>\n",
       "      <td>-1.069759e-13</td>\n",
       "      <td>2.0</td>\n",
       "      <td>-4.492489e-15</td>\n",
       "      <td>1.000000</td>\n",
       "    </tr>\n",
       "    <tr>\n",
       "      <th>C(Fast_food):C(Fruits)</th>\n",
       "      <td>4.656299e+01</td>\n",
       "      <td>8.0</td>\n",
       "      <td>4.888569e-01</td>\n",
       "      <td>0.816207</td>\n",
       "    </tr>\n",
       "    <tr>\n",
       "      <th>Residual</th>\n",
       "      <td>2.309781e+03</td>\n",
       "      <td>194.0</td>\n",
       "      <td>NaN</td>\n",
       "      <td>NaN</td>\n",
       "    </tr>\n",
       "  </tbody>\n",
       "</table>\n",
       "</div>"
      ],
      "text/plain": [
       "                              sum_sq     df             F    PR(>F)\n",
       "C(Fast_food)            5.745908e+00    4.0  1.206506e-01  0.947866\n",
       "C(Fruits)              -1.069759e-13    2.0 -4.492489e-15  1.000000\n",
       "C(Fast_food):C(Fruits)  4.656299e+01    8.0  4.888569e-01  0.816207\n",
       "Residual                2.309781e+03  194.0           NaN       NaN"
      ]
     },
     "execution_count": 15,
     "metadata": {},
     "output_type": "execute_result"
    }
   ],
   "source": [
    "twowayanova_BMI_fastfood_fruits()"
   ]
  },
  {
   "cell_type": "code",
   "execution_count": null,
   "id": "235b7e33",
   "metadata": {},
   "outputs": [],
   "source": []
  }
 ],
 "metadata": {
  "kernelspec": {
   "display_name": "Python 3 (ipykernel)",
   "language": "python",
   "name": "python3"
  },
  "language_info": {
   "codemirror_mode": {
    "name": "ipython",
    "version": 3
   },
   "file_extension": ".py",
   "mimetype": "text/x-python",
   "name": "python",
   "nbconvert_exporter": "python",
   "pygments_lexer": "ipython3",
   "version": "3.9.7"
  }
 },
 "nbformat": 4,
 "nbformat_minor": 5
}
